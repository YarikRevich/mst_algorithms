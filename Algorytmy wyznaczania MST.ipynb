{
 "cells": [
  {
   "cell_type": "markdown",
   "id": "99b09d79",
   "metadata": {},
   "source": [
    "# Wiadomości wstępne"
   ]
  },
  {
   "cell_type": "markdown",
   "id": "f20cd5be",
   "metadata": {},
   "source": [
    "## Wstęp"
   ]
  },
  {
   "cell_type": "markdown",
   "id": "8decbe3a",
   "metadata": {},
   "source": [
    "W niniejszej pracy zostaną omówione zagadnienia związane z algorytmami wyznaczania **MST**. Wyjaśnione zostanie pojęcie minimalnego drzewa rozpinającego (**MST**), a także opisane będą algorytmy **Kruskala** i **Prima**. Dodatkowo, przedstawione będą sposoby sprawdzenia poprawności otrzymanych wyników dla każdego z powyższych algorytmów. W dalszej części pracy omówione zostaną implementacje algorytmów związanych z tymi zagadnieniami: algorytm **Kruskala** i algorytm **Prima**. Po każdej z implementacji przedstawiony zostanie opis implementacji, analiza złożoności oraz przykład zastosowania algorytmu."
   ]
  },
  {
   "cell_type": "markdown",
   "id": "002c6786",
   "metadata": {},
   "source": [
    "## Czym jest minimalne drzewo rozpinające(MST)?"
   ]
  },
  {
   "cell_type": "markdown",
   "id": "bc32d77c",
   "metadata": {},
   "source": [
    "Minimalne drzewo rozpinające(**MST**) w grafie jest drzewem, które łączy wszystkie wierzchołki grafu, przy minimalnej sumie wag krawędzi. Jest to podzbiór krawędzi grafu, który tworzy acykliczny graf spójny i pokrywa wszystkie wierzchołki, przy minimalnym koszcie.\n",
    "\n",
    "Kryteria minimalnego drzewa rozpinającego:\n",
    "* Minimalne drzewo rozpinające musi być spójne, czyli musi istnieć ścieżka łącząca każde dwa wierzchołki w drzewie.\n",
    "\n",
    "\n",
    "* Suma wag krawędzi w minimalnym drzewie rozpinającym musi być jak najmniejsza spośród wszystkich możliwych drzew rozpinających graf.\n",
    "\n",
    "\n",
    "* Graf może mieć więcej niż jedno minimalne drzewo rozpinające, jednak niezależnie od tego suma wag krawędzi będzie zawsze minimalna."
   ]
  },
  {
   "cell_type": "markdown",
   "id": "1a15e6e1",
   "metadata": {},
   "source": [
    "## Na czym polega algorytm Kruskala?"
   ]
  },
  {
   "cell_type": "markdown",
   "id": "b2ecaf33",
   "metadata": {},
   "source": [
    "Algorytm **Kruskala** jest algorytmem, który jest wykorzystany do znajdowania minimalnego drzewa rozpinającego(**MST**) w ważonym grafie nieskierowanym. Algorytm ten wybiera kolejne krawędzie o najmniejszych wagach i dodaje je do **MST**, o ile nie powodują utworzenia cyklu. \n",
    "\n",
    "Algorytm **Kruskala** zawiera następujące kroki:\n",
    "* Wszystkie krawędzie grafu są posortowane rosnąco według ich wag.\n",
    "\n",
    "\n",
    "* Wybrana jest krawędź o najmniejszej wadze.\n",
    "\n",
    "\n",
    "* Sprawdza się, czy wybrana krawędź łączy dwa różne zbiory wierzchołków. Jeśli tak, wtedy ona zostaje dodana do **MST**. \n",
    "\n",
    "\n",
    "* Zbiory wierzchołków związane z wybraną krawędzią zostają połączone.\n",
    "\n",
    "\n",
    "* Kroki **2-4** są powtarzane dopóki **MST** nie zawiera **V**-1 krawędzi(gdzie **V** to liczba wierzchołków grafu) lub nie zostaną sprawdzone wszystkie krawędzie.\n",
    "\n",
    "Złożoność czasowa algorytmu **Kruskala** wynosi:\n",
    "$$\\mathcal O(E*log(E))$$\n",
    "Gdzie **E** to liczba krawędzi w grafie."
   ]
  },
  {
   "cell_type": "markdown",
   "id": "d650c19f",
   "metadata": {},
   "source": [
    "## Na czym polega algorytm Prima?"
   ]
  },
  {
   "cell_type": "markdown",
   "id": "566c064f",
   "metadata": {},
   "source": [
    "Algorytm **Prima** jest algorytmem, który jest wykorzystany do znajdowania minimalnego drzewa rozpinającego(**MST**) w ważonym grafie nieskierowanym. Algorytm ten zaczyna od jednego wierzchołka i stopniowo dodaje krawędzie do **MST**, tak, aby ostatecznie pokryć wszystkie wierzchołki grafu.\n",
    "\n",
    "Algorytm **Prima** zawiera następujące kroki:\n",
    "* Wybrany jest dowolny początkowy wierzchołek.\n",
    "\n",
    "\n",
    "* Z kolejki priorytetowej zostaje pobrana krawędź o najmniejszej wadze.\n",
    "  \n",
    "  \n",
    "* Jeśli krawędź łączy wierzchołek, który już należy do **MST**, z wierzchołkiem, który jeszcze nie należy, to te krawędzi zostają dodane do **MST**.\n",
    "\n",
    "\n",
    "* Wybrany wierzchołek jest oznaczony jako odwiedzony.\n",
    "\n",
    "\n",
    "* Każda krawędź wychodząca z wybranego wierzchołka, która łączy nieodwiedzony wierzchołek, jest dodana do kolejki priorytetowej.\n",
    "\n",
    "\n",
    "* Kroki **2-5** są powtarzane dopóki **MST** nie zawiera **V**-1 krawędzi(gdzie **V** to liczba wierzchołków grafu) lub nie zostaną sprawdzone wszystkie krawędzie.\n",
    "\n",
    "\n",
    "Złożoność czasowa algorytmu **Prima** wynosi:\n",
    "$$\\mathcal O(E*log(V))$$\n",
    "Gdzie **E** to liczba krawędzi, a **V** to liczba wierzchołków w grafie."
   ]
  },
  {
   "cell_type": "markdown",
   "id": "23903fc7",
   "metadata": {},
   "source": [
    "## Na czym głównie polega różnica między algorytmem **Prima** a algorytmem **Kruskala**?"
   ]
  },
  {
   "cell_type": "code",
   "execution_count": null,
   "id": "baad0598",
   "metadata": {},
   "outputs": [],
   "source": []
  },
  {
   "cell_type": "markdown",
   "id": "9a889df8",
   "metadata": {},
   "source": [
    "## W jaki sposób można sprawdzić poprawność wyników algorytmu Prima oraz algorytmu Kruskala?"
   ]
  },
  {
   "cell_type": "markdown",
   "id": "4c5baa4b",
   "metadata": {},
   "source": [
    "Weryfikacja poprawności wyników wyżej wskazanych algorytmów polega głównie na sprawdzeniu, czy drzewo spełnia podstawowe warunki drzewa rozpinającego, czy drzewo zawiera wszystkie wierzchołki oraz czy suma wag jest minimalna. Jeśli wszystkie te warunki są spełnione, można uznać, że odpowiedź algorytmu Prima jest poprawna."
   ]
  },
  {
   "cell_type": "markdown",
   "id": "8646b831",
   "metadata": {},
   "source": [
    "# Implementacje algorytmów"
   ]
  },
  {
   "cell_type": "markdown",
   "id": "0a475d7e",
   "metadata": {},
   "source": [
    "## Implementacja algorytmu Kruskala"
   ]
  },
  {
   "cell_type": "markdown",
   "id": "fc380ad8",
   "metadata": {},
   "source": [
    "### Funkcje pomocniczne"
   ]
  },
  {
   "cell_type": "markdown",
   "id": "12b5bb7a",
   "metadata": {},
   "source": [
    "Niżej jest podana funkcja, która przyjmuje dwa argumenty: tablica pierwszych wierzchołków **src** oraz indeks wierzchołku **i**. Celem funkcji jest znalezienie początkowego wierzchołku. Funkcja zwraca indeks początkowego wierzchołku."
   ]
  },
  {
   "cell_type": "code",
   "execution_count": 86,
   "id": "bdb43400",
   "metadata": {},
   "outputs": [],
   "source": [
    "def getRoot(src: list[int], i: int) -> int:\n",
    "    if src[i] != i:\n",
    "        src[i] = getRoot(src, src[i])\n",
    "    return src[i]"
   ]
  },
  {
   "cell_type": "markdown",
   "id": "98dc7c38",
   "metadata": {},
   "source": [
    "Niżej jest podana funkcja, która przyjmuje cztery argumenty: tablica pierwszych wierzchołków **src**, tablica rankingu **rank**, indeks pierwszego początkowego wierzchołku **x**, oraz indeks drugiego początkowego wierzchołku **y**. Celem funkcji jest łączenie dwóch zbiorów na podstawie podanych rankingów w celu utworzenia większego zbioru."
   ]
  },
  {
   "cell_type": "code",
   "execution_count": 87,
   "id": "251cc238",
   "metadata": {},
   "outputs": [],
   "source": [
    "def combineSubsets(src: list[int], rank: list[int], x: int, y: int) -> None:\n",
    "    if rank[x] < rank[y]:\n",
    "        src[x] = y\n",
    "    elif rank[x] > rank[y]:\n",
    "        src[y] = x\n",
    "    else:\n",
    "        src[y] = x\n",
    "        rank[x] += 1"
   ]
  },
  {
   "cell_type": "markdown",
   "id": "c42be6ff",
   "metadata": {},
   "source": [
    "Niżej jest podana funkcja, która implementuje algorytm **Kruskala**. Ona przyjmuje dwa argumenty: tablica wierzchołków i wag **src** oraz liczbę wierzchołków **V**. Celem funkcji jest generowanie połączeń zgodnie z podanymi zasadami. Funkcja zwraca dwuwymiarową tablicę, która reprezentuje wygenerowane połączenia."
   ]
  },
  {
   "cell_type": "code",
   "execution_count": 138,
   "id": "432446a8",
   "metadata": {},
   "outputs": [],
   "source": [
    "def kruskal(src: list[list[int]], V: int) -> list[list[int]]:\n",
    "    result = []\n",
    "    i = 0\n",
    "    e = 0\n",
    "        \n",
    "    connections = sorted(src[:], key=lambda item: item[2])\n",
    "\n",
    "    parents = []\n",
    "    ranks = []\n",
    "\n",
    "    for node in range(V):\n",
    "        parents.append(node)\n",
    "        ranks.append(0)\n",
    "            \n",
    "    while e < V - 1:\n",
    "        u, v, w = connections[i]\n",
    "\n",
    "        i += 1\n",
    " \n",
    "        x = getRoot(parents, u)\n",
    "        y = getRoot(parents, v)\n",
    "\n",
    "        if x != y:\n",
    "            e += 1\n",
    "            result.append([u, v, w])\n",
    "            combineSubsets(parents, ranks, x, y)\n",
    "            \n",
    "    return result"
   ]
  },
  {
   "cell_type": "markdown",
   "id": "db5f1ce0",
   "metadata": {},
   "source": [
    "### Opis implementacji"
   ]
  },
  {
   "cell_type": "markdown",
   "id": "b786b1ff",
   "metadata": {},
   "source": [
    "Najpierw tworzona jest tablica wyjściowa **result**, która będzie przechowywać krawędzie minimalnego drzewa rozpinającego(**MST**). Dalej odbywa się inicjalizacja zmiennych wewnętrznych. Następnie odbywa się sortowanie kopii tablicy wejściowej **src** według podanych wag każdej krawędzi. Posortowana lista nazywa się **connections**. Dalej twoerzone są puste tablice **parents** i **ranks**. Tablica **parents** będzie przechowywać informację o przynależności każdego wierzchołka. Tablica **ranks** będzie przechowywać informację o rankingu drzew dla każdego wierzchołka. Następnie odbywa się iteracja przez podaną liczbę wierzchołków **V** i każdy zostaje dodany do tablicy **parents**, a rankingi są równe **0**. Dalej odbywa się proces generacji **MST**, który będzie trwać, dopóki nie zostanie zbudowane **MST** o **V-1** krawędziach. W każdej iteracji, brana jest krawędź z tablicy **connections** o indeksie **i** i zostaje rozpakowana do zmiennych **u**(pierwszy wierzchołek), **v**(drugi wierzchołek), **w**(waga).\n",
    "Przy pomocy funkcji **getRoot** znajdowane są reprezentanty zbiorów, do których należą wierzchołki **u** i **v**. Zwracane wartości **x** i **y** są indeksami tych reprezentantów. Jeżeli wartości zmiennych **x** i **y** są różne, oznacza to, że wierzchołki **u** i **v** należą do różnych zbiorów i możemy je połączyć. Następna krawędź jest dodana to tablicy wyjściowej. Wartość zmiennej **e** jest inkrementowana o **1**, ponieważ dodana jest kolejna krawędź do **MST**. Dalej jest wywoływana funkcja **combineSubsets** w celu połączenia zbiorów o indeksach **x** i **y** w jedno większe drzewo."
   ]
  },
  {
   "cell_type": "markdown",
   "id": "16943897",
   "metadata": {},
   "source": [
    "### Analiza złożoności"
   ]
  },
  {
   "cell_type": "markdown",
   "id": "f312a21b",
   "metadata": {},
   "source": [
    "Początkowo odbywa się sortowanie krawędzi. Jeśli **src** zawiera **V** wierzchołków i **E** krawędzi, to złożoność czasowa sortowania wynosi:\n",
    "$$\\mathcal O(E*log(E))$$\n",
    "Kolejna operacja initcjalizacji zmiennych wewnętrznych ma złożoność czasową:\n",
    "$$\\mathcal O(V)$$\n",
    "Dalej w pętli, która wykonuje się maksymalnie **V-1** razy odbywają się takie operacje, jak pobranie korzenia zbioru porównanie, dodanie krawędzi do wyniku oraz scalenie zbiorów zostaną wykonane. Z tego powodu złożoność czasowa powyższej operacji wynosi:\n",
    "$$\\mathcal O(E*\\alpha(V))$$\n",
    "Gdzie **E** to liczba krawędzi. Ostatecznie złożoność czasowa algorytmu **Kruskala** zależy od sortowania krawędzi. Dlatego złożoność czasowa algorytmu **Kruskala** wynosi:\n",
    "$$\\mathcal O(E*log(E))$$"
   ]
  },
  {
   "cell_type": "markdown",
   "id": "1056a7ac",
   "metadata": {},
   "source": [
    "### Przykłady wykorzystania"
   ]
  },
  {
   "cell_type": "markdown",
   "id": "6cef547c",
   "metadata": {},
   "source": [
    "Poniżej jest podany przykład wykorzystania, który ..."
   ]
  },
  {
   "cell_type": "code",
   "execution_count": 122,
   "id": "3f284e14",
   "metadata": {},
   "outputs": [
    {
     "name": "stdout",
     "output_type": "stream",
     "text": [
      "[[0, 4, 2], [2, 3, 4], [2, 7, 4], [0, 3, 5], [3, 6, 7], [5, 7, 8], [0, 1, 10]]\n"
     ]
    }
   ],
   "source": [
    "src = [[0, 1, 10],\n",
    "    [0, 2, 6],\n",
    "    [0, 3, 5],\n",
    "    [1, 3, 15],\n",
    "    [2, 3, 4],\n",
    "    [0, 4, 2],\n",
    "    [3, 6, 7],\n",
    "    [2, 7, 4],\n",
    "    [5, 7, 8]]\n",
    "result = kruskal(src, 8)\n",
    "\n",
    "print(result)"
   ]
  },
  {
   "cell_type": "markdown",
   "id": "0ebd16e6",
   "metadata": {},
   "source": [
    "#### Sprawdzenie poprawności wyniku algorytmu Kruskala"
   ]
  },
  {
   "cell_type": "markdown",
   "id": "37b9677d",
   "metadata": {},
   "source": [
    "Sprawdzenie poprawności odbywa się przy pomocy wbudowanej w środowisko **SageMath** biblioteki, która zawiera implementację algorytmu **Kruskala**."
   ]
  },
  {
   "cell_type": "code",
   "execution_count": 116,
   "id": "383125a4",
   "metadata": {},
   "outputs": [],
   "source": [
    "from sage.graphs.spanning_tree import filter_kruskal\n",
    "\n",
    "validation_src = {}\n",
    "\n",
    "for c in src:\n",
    "    if validation_src.get(c[0]) is None:\n",
    "        validation_src[c[0]] = [c[1]]\n",
    "    else:\n",
    "        validation_src[c[0]] += [c[1]]\n",
    "g = Graph(validation_src)\n",
    "\n",
    "for c in src:\n",
    "    g.set_edge_label(c[0], c[1], c[2])\n",
    "\n",
    "valid_result = filter_kruskal(g, check=True)\n",
    "for v in result:\n",
    "    found = False\n",
    "    for q in valid_result:\n",
    "        if v[0] == q[0] and v[1] == q[1] and v[2] == q[2]:\n",
    "            found = True\n",
    "    assert found == True"
   ]
  },
  {
   "cell_type": "markdown",
   "id": "37c619bb",
   "metadata": {},
   "source": [
    "#### Początkowa reprezentacja geometryczna"
   ]
  },
  {
   "cell_type": "code",
   "execution_count": 121,
   "id": "62e83b27",
   "metadata": {},
   "outputs": [
    {
     "data": {
      "image/png": "[encoded data removed]",
      "text/plain": [
       "Graphics object consisting of 27 graphics primitives"
      ]
     },
     "metadata": {},
     "output_type": "display_data"
    }
   ],
   "source": [
    "from sage.graphs.graph_plot import GraphPlot\n",
    "options = {\n",
    "    'vertex_size': 200,\n",
    "    'vertex_labels': True,\n",
    "    'edge_style': 'solid',\n",
    "    'edge_colors': None,\n",
    "    'edge_labels': True,\n",
    "    'iterations': 50,\n",
    "    'tree_orientation': 'down',\n",
    "    'heights': None,\n",
    "    'graph_border': False,\n",
    "    'talk': False,\n",
    "    'color_by_label': False,\n",
    "    'partition': None,\n",
    "    'dist': .075,\n",
    "    'max_dist': 1.5,\n",
    "    'loop_size': .075,\n",
    "    'save_pos': True,\n",
    "    'edge_labels_background': 'transparent'}\n",
    "\n",
    "graph_src = {}\n",
    "labels_src = {}\n",
    "\n",
    "for c in src:\n",
    "    if graph_src.get(c[0]) is None:\n",
    "        graph_src[c[0]] = [c[1]]\n",
    "    else:\n",
    "        graph_src[c[0]] += [c[1]]\n",
    "\n",
    "\n",
    "g = Graph(graph_src)\n",
    "\n",
    "edge_colors = []\n",
    "for c in src:\n",
    "    edge_colors.append('red')\n",
    "    g.set_edge_label(c[0], c[1], c[2])\n",
    "\n",
    "GP = GraphPlot(g, options)\n",
    "GP.show()"
   ]
  },
  {
   "cell_type": "markdown",
   "id": "cc41fbdf",
   "metadata": {},
   "source": [
    "#### Ostateczna reprezentacja geometryczna"
   ]
  },
  {
   "cell_type": "code",
   "execution_count": null,
   "id": "c06d8f99",
   "metadata": {},
   "outputs": [],
   "source": []
  },
  {
   "cell_type": "markdown",
   "id": "ce881702",
   "metadata": {},
   "source": [
    "## Implementacja algorytmu Prima"
   ]
  },
  {
   "cell_type": "markdown",
   "id": "4f1e5aaf",
   "metadata": {},
   "source": [
    "Niżej jest podana funkcja, która implementuje algorytm **Prima**. Ona przyjmuje dwa argumenty: tablica wierzchołków i wag **src** oraz liczbę wierzchołków **V**. Celem funkcji jest generowanie połączeń zgodnie z podanymi zasadami. Funkcja zwraca dwuwymiarową tablicę, która reprezentuje wygenerowane połączenia."
   ]
  },
  {
   "cell_type": "code",
   "execution_count": 104,
   "id": "aadd7003",
   "metadata": {},
   "outputs": [],
   "source": [
    "def prim(src: list[list[int]], V: int) -> list[list[int]]:\n",
    "    result = []\n",
    "\n",
    "    G = [[0] * V for _ in range(V)]\n",
    "\n",
    "    for c in src:\n",
    "        G[c[0]][c[1]] = c[2]\n",
    "        G[c[1]][c[0]] = c[2]\n",
    "\n",
    "    selected = [False] * V\n",
    "    selected[0] = True\n",
    "\n",
    "    q = 0\n",
    "    while q < V - 1:\n",
    "        minimum = float('inf')\n",
    "        x = 0\n",
    "        y = 0\n",
    "        for i in range(V):\n",
    "            if selected[i]:\n",
    "                for j in range(V):\n",
    "                    if not selected[j] and G[i][j]:\n",
    "                        if minimum > G[i][j]:\n",
    "                            minimum = G[i][j]\n",
    "                            x = i\n",
    "                            y = j\n",
    "        result.append([x, y, G[x][y]])\n",
    "        selected[y] = True\n",
    "        q += 1\n",
    "    return result"
   ]
  },
  {
   "cell_type": "markdown",
   "id": "0db2f43e",
   "metadata": {},
   "source": [
    "### Opis implementacji"
   ]
  },
  {
   "cell_type": "markdown",
   "id": "a165ae37",
   "metadata": {},
   "source": [
    "Najpierw tworzona jest tablica wyjściowa **result**, która będzie przechowywać krawędzie minimalnego drzewa rozpinającego(**MST**). Następnie tworzona jest macierz sąsiedztwa **G**, wypełniona zerami, o rozmiarze:\n",
    "$$\\mathcal V^2$$ \n",
    "Gdzie **V** to podany argument, który reprezentuje liczbę wierzchołków. Następnie dla każdej krawędzi, w podanej tablice wejściowej **src**, wartość w macierzy **G** odpowiadająca odpowiednim wierzchołkom jest ustawiana na wagę tej krawędzi. Macierz **G** jest symetryczna, ponieważ graf jest nieskierowany. Dalej odbywa się inicjalizacja zmiennych wewnętrznych. Tworzona jest tablica **selected**, która przechowuje informację o tym, które wierzchołki zostały już wybrane. Na początku wszystkie wartości w **selected** są ustawione na **False**, a wierzchołek o indeksie **0** jest ustawiony na **True**, oznaczając, że został wybrany jako pierwszy wierzchołek **MST**. Następnie, odbywa się iteracja , która wykonuje się dopóki nie zostanie wybrane **V-1** krawędzi. Głównym celem tej operacji jest znajdowanie krawędzi o najmniejszej wadze. Dalej odbywa się iteracja przez wszystkie wybrane wierzchołki, oznaczone jako **selected[i] == True** i sprawdza się ich sąsiadów, którzy nie zostały jeszcze wybrani, czyli **selected[j] == False** i mają istniejącą krawędź między nimi, czyli jeżeli wartość w macierzy **G[i][j]** jest większa niż **0**. Jeśli waga tej krawędzi jest mniejsza od dotychczasowej minimalnej wagi **minimum**, wartość tej zmiennej się aktualizuje oraz zapamiętuje się indeksy wierzchołków tej krawędzi **x** i **y**. Po znalezieniu krawędzi o najmniejszej wadze, ona zostaje dodana do tablicy wyjściowej **result**. Następnie wybrany wierzchołek **y** jest oznaczony jako **True** w tablice **selected**, co oznacza, że jest włączony do **MST**. Po zakończeniu głównej iteracji zwraca się tablica **result**, która zawiera minimalne drzewo rozpinające(**MST**)."
   ]
  },
  {
   "cell_type": "markdown",
   "id": "d0fb814d",
   "metadata": {},
   "source": [
    "### Analiza złożoności"
   ]
  },
  {
   "cell_type": "markdown",
   "id": "c6692061",
   "metadata": {},
   "source": [
    "Początkowo odbywa się tworzenie macierzy sąsiedztwa, które polega na utworzeniu macierzy dwuwymiarowej **G** na podstawie podanej tablicy połączeń **src**. Złożoność czasowa tej operacji wynosi:\n",
    "$$\\mathcal O(V)$$\n",
    "Gdzie **V** to podana liczba wierzchołków.\n",
    "Dalej, po inicjalizacji zmiennych(złożoność czasowa jest stała), odbywa się znajdowanie najmniejszej krawędzi. Ten proces polega na iteracji przez wszystkie wierzchołki i ich sąsiadujące wierzchołki w celu znalezienia najmniejszej krawędzi. Złożoność czasowa tej operacji wynosi:\n",
    "$$\\mathcal O(V^2)$$\n",
    "Ostatecznie złożoność czasowa algorytmu **Prima** wynosi:\n",
    "$$\\mathcal O(V^3)$$"
   ]
  },
  {
   "cell_type": "markdown",
   "id": "bc848aee",
   "metadata": {},
   "source": [
    "### Przykłady wykorzystania"
   ]
  },
  {
   "cell_type": "code",
   "execution_count": 49,
   "id": "55bb0c61",
   "metadata": {},
   "outputs": [
    {
     "name": "stdout",
     "output_type": "stream",
     "text": [
      "[[0, 3, 5], [3, 2, 4], [0, 1, 10]]\n"
     ]
    }
   ],
   "source": [
    "src = [[0, 1, 10],\n",
    "    [0, 2, 6],\n",
    "    [0, 3, 5],\n",
    "    [1, 3, 15],\n",
    "    [2, 3, 4]]\n",
    "result = prim(src, 4)\n",
    "\n",
    "print(result)"
   ]
  },
  {
   "cell_type": "markdown",
   "id": "f07f5bf8",
   "metadata": {},
   "source": [
    "#### Sprawdzenie poprawności wyniku algorytmu Kruskala"
   ]
  },
  {
   "cell_type": "markdown",
   "id": "c4324dbb",
   "metadata": {},
   "source": [
    "Sprawdzenie poprawności odbywa się przy pomocy wbudowanej w środowisko **SageMath** biblioteki, która zawiera implementację algorytmu **Kruskala**."
   ]
  },
  {
   "cell_type": "code",
   "execution_count": 137,
   "id": "d2662174",
   "metadata": {},
   "outputs": [
    {
     "ename": "AttributeError",
     "evalue": "'Graph' object has no attribute 'prim_minimum_spanning_tree'",
     "output_type": "error",
     "traceback": [
      "\u001b[0;31m---------------------------------------------------------------------------\u001b[0m",
      "\u001b[0;31mAttributeError\u001b[0m                            Traceback (most recent call last)",
      "Cell \u001b[0;32mIn [137], line 11\u001b[0m\n\u001b[1;32m      5\u001b[0m G \u001b[38;5;241m=\u001b[39m nx\u001b[38;5;241m.\u001b[39mGraph()\n\u001b[1;32m      6\u001b[0m G\u001b[38;5;241m.\u001b[39madd_edges_from([(Integer(\u001b[38;5;241m1\u001b[39m), Integer(\u001b[38;5;241m2\u001b[39m), {\u001b[38;5;124m'\u001b[39m\u001b[38;5;124mweight\u001b[39m\u001b[38;5;124m'\u001b[39m: Integer(\u001b[38;5;241m10\u001b[39m)}),\n\u001b[1;32m      7\u001b[0m                   (Integer(\u001b[38;5;241m1\u001b[39m), Integer(\u001b[38;5;241m3\u001b[39m), {\u001b[38;5;124m'\u001b[39m\u001b[38;5;124mweight\u001b[39m\u001b[38;5;124m'\u001b[39m: Integer(\u001b[38;5;241m6\u001b[39m)}),\n\u001b[1;32m      8\u001b[0m                   (Integer(\u001b[38;5;241m1\u001b[39m), Integer(\u001b[38;5;241m4\u001b[39m), {\u001b[38;5;124m'\u001b[39m\u001b[38;5;124mweight\u001b[39m\u001b[38;5;124m'\u001b[39m: Integer(\u001b[38;5;241m5\u001b[39m)}),\n\u001b[1;32m      9\u001b[0m                   (Integer(\u001b[38;5;241m2\u001b[39m), Integer(\u001b[38;5;241m3\u001b[39m), {\u001b[38;5;124m'\u001b[39m\u001b[38;5;124mweight\u001b[39m\u001b[38;5;124m'\u001b[39m: Integer(\u001b[38;5;241m15\u001b[39m)}),\n\u001b[1;32m     10\u001b[0m                   (Integer(\u001b[38;5;241m2\u001b[39m), Integer(\u001b[38;5;241m4\u001b[39m), {\u001b[38;5;124m'\u001b[39m\u001b[38;5;124mweight\u001b[39m\u001b[38;5;124m'\u001b[39m: Integer(\u001b[38;5;241m4\u001b[39m)})])\n\u001b[0;32m---> 11\u001b[0m \u001b[43mG\u001b[49m\u001b[38;5;241;43m.\u001b[39;49m\u001b[43mprim_minimum_spanning_tree\u001b[49m()\n",
      "\u001b[0;31mAttributeError\u001b[0m: 'Graph' object has no attribute 'prim_minimum_spanning_tree'"
     ]
    }
   ],
   "source": [
    "import networkx as nx\n",
    "import matplotlib.pyplot as plt\n",
    "\n",
    "# Create a graph\n",
    "G = nx.Graph()\n",
    "G.add_edges_from([(1, 2, {'weight': 10}),\n",
    "                  (1, 3, {'weight': 6}),\n",
    "                  (1, 4, {'weight': 5}),\n",
    "                  (2, 3, {'weight': 15}),\n",
    "                  (2, 4, {'weight': 4})])\n",
    "G.prim_minimum_spanning_tree()"
   ]
  },
  {
   "cell_type": "markdown",
   "id": "6300eab0",
   "metadata": {},
   "source": [
    "#### Początkowa reprezentacja geometryczna"
   ]
  },
  {
   "cell_type": "code",
   "execution_count": 136,
   "id": "b8ada9c9",
   "metadata": {},
   "outputs": [
    {
     "name": "stdout",
     "output_type": "stream",
     "text": [
      "{'vertex_size': 200, 'vertex_labels': True, 'edge_style': 'solid', 'edge_colors': ['red', 'red', 'red', 'red', 'red', 'red', 'red', 'red', 'red'], 'edge_labels': True, 'heights': None, 'color_by_label': False, 'partition': None, 'save_pos': True, 'edge_labels_background': 'transparent'}\n"
     ]
    },
    {
     "data": {
      "image/png": "[encoded data removed]",
      "text/plain": [
       "Graphics object consisting of 27 graphics primitives"
      ]
     },
     "metadata": {},
     "output_type": "display_data"
    }
   ],
   "source": [
    "from sage.graphs.graph_plot import GraphPlot\n",
    "options = {\n",
    "    'vertex_size': 200,\n",
    "    'vertex_labels': True,\n",
    "    'edge_style': 'solid',\n",
    "    'edge_colors': None,\n",
    "    'edge_labels': True,\n",
    "    'heights': None,\n",
    "    'color_by_label': False,\n",
    "    'partition': None,\n",
    "    'save_pos': True,\n",
    "    'edge_labels_background': 'transparent'}\n",
    "\n",
    "graph_src = {}\n",
    "labels_src = {}\n",
    "\n",
    "for c in src:\n",
    "    if graph_src.get(c[0]) is None:\n",
    "        graph_src[c[0]] = [c[1]]\n",
    "    else:\n",
    "        graph_src[c[0]] += [c[1]]\n",
    "\n",
    "\n",
    "g = Graph(graph_src)\n",
    "\n",
    "edge_colors = []\n",
    "for c in src:\n",
    "    edge_colors.append('red')\n",
    "    g.set_edge_label(c[0], c[1], c[2])\n",
    "\n",
    "options['edge_colors'] = edge_colors\n",
    "print(options)\n",
    "GP = GraphPlot(g, options)\n",
    "GP.show()"
   ]
  },
  {
   "cell_type": "markdown",
   "id": "b1ce5a5f",
   "metadata": {},
   "source": [
    "#### Ostateczna reprezentacja geometryczna"
   ]
  },
  {
   "cell_type": "code",
   "execution_count": 76,
   "id": "59a2b10a",
   "metadata": {},
   "outputs": [
    {
     "data": {
      "image/png": "[encoded data removed]",
      "text/plain": [
       "Graphics object consisting of 11 graphics primitives"
      ]
     },
     "metadata": {},
     "output_type": "display_data"
    }
   ],
   "source": [
    "graph_src = {}\n",
    "labels_src = {}\n",
    "\n",
    "for c in result:\n",
    "    if graph_src.get(c[0]) is None:\n",
    "        graph_src[c[0]] = [c[1]]\n",
    "    else:\n",
    "        graph_src[c[0]] += [c[1]]\n",
    "\n",
    "g = Graph(graph_src)\n",
    "\n",
    "for c in src:\n",
    "    g.set_edge_label(c[0], c[1], c[2])\n",
    "GP = GraphPlot(g, options)\n",
    "GP.show()"
   ]
  },
  {
   "cell_type": "markdown",
   "id": "00191bd1",
   "metadata": {},
   "source": [
    "# Podsumowanie"
   ]
  },
  {
   "cell_type": "markdown",
   "id": "f4aa1dc4",
   "metadata": {},
   "source": [
    "W niniejszej pracy zostaną omówione zagadnienia związane z algorytmami wyznaczania **MST**. Wyjaśnione zostanie pojęcie minimalnego drzewa rozpinającego (**MST**), a także opisane będą algorytmy **Kruskala** i **Prima**. Dodatkowo, przedstawione będą sposoby sprawdzenia poprawności otrzymanych wyników dla każdego z powyższych algorytmów. W dalszej części pracy omówione zostaną implementacje algorytmów związanych z tymi zagadnieniami: algorytm **Kruskala** i algorytm **Prima**. Po każdej z implementacji przedstawiony zostanie opis implementacji, analiza złożoności oraz przykład zastosowania algorytmu. Na podstawie przeanalizowanej złożoności czasowej, można stwierdzić, że wydajność przedstawionych algorytmów głównie zależy od struktury podanego grafu. W taki sposób algorytm **Prima** jest bardziej wydajny dla grafów, gdzie liczba krawędzi jest zbliżona do liczby wierzchołków kwadratowej. Natychmiast algorytm **Kruskala** jest bardziej wydajny w przypadku grafów, gdzie liczba krawędzi jest znacznie mniejsza od liczby wierzchołków kwadratowej. Warto podkreślić, że, chociaż zarówno algorytm **Kruskala** jak i algorytm **Prima** zwracają poprawne minimalne drzewo rozpinające(**MST**), kolejność krawędzi może się różnić."
   ]
  },
  {
   "cell_type": "markdown",
   "id": "ea263e86",
   "metadata": {},
   "source": [
    "# Wykorzystane źródła"
   ]
  },
  {
   "cell_type": "markdown",
   "id": "665dac8b",
   "metadata": {},
   "source": [
    "- https://en.wikipedia.org/wiki/Kruskal%27s_algorithm\n",
    "- https://pl.wikipedia.org/wiki/Algorytm_Prima\n",
    "- https://eduinf.waw.pl/inf/alg/001_search/0141.php"
   ]
  }
 ],
 "metadata": {
  "authors": [
   {
    "name": "Yaroslav Svitlytskyi"
   }
  ],
  "kernelspec": {
   "display_name": "SageMath 10.1",
   "language": "sage",
   "name": "sagemath-10.1"
  },
  "language_info": {
   "codemirror_mode": {
    "name": "ipython",
    "version": 3
   },
   "file_extension": ".py",
   "mimetype": "text/x-python",
   "name": "python",
   "nbconvert_exporter": "python",
   "pygments_lexer": "ipython3",
   "version": "3.11.1"
  },
  "title": "Algorytmy wyznaczania MST"
 },
 "nbformat": 4,
 "nbformat_minor": 5
}
